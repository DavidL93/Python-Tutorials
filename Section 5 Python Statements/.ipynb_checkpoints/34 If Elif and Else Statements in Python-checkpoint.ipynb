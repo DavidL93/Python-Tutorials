{
 "cells": [
  {
   "cell_type": "code",
   "execution_count": 1,
   "metadata": {},
   "outputs": [
    {
     "name": "stdout",
     "output_type": "stream",
     "text": [
      "ITS TRUE!\n"
     ]
    }
   ],
   "source": [
    "if True:\n",
    "    print('ITS TRUE!')"
   ]
  },
  {
   "cell_type": "code",
   "execution_count": 2,
   "metadata": {},
   "outputs": [
    {
     "name": "stdout",
     "output_type": "stream",
     "text": [
      "ITS TRUE!\n"
     ]
    }
   ],
   "source": [
    "if 3>2:\n",
    "    print('ITS TRUE!')"
   ]
  },
  {
   "cell_type": "code",
   "execution_count": 3,
   "metadata": {},
   "outputs": [
    {
     "name": "stdout",
     "output_type": "stream",
     "text": [
      "Im not hungry\n"
     ]
    }
   ],
   "source": [
    "hungry = False\n",
    "if hungry:\n",
    "    print('FEED ME!')\n",
    "else:\n",
    "    print('Im not hungry')"
   ]
  },
  {
   "cell_type": "code",
   "execution_count": 7,
   "metadata": {},
   "outputs": [
    {
     "name": "stdout",
     "output_type": "stream",
     "text": [
      "money is cool\n"
     ]
    }
   ],
   "source": [
    "loc = 'bank'\n",
    "\n",
    "if loc == 'Auto Shop':\n",
    "    print(\"Cars are cool\")\n",
    "    \n",
    "elif loc == 'bank':\n",
    "    print('money is cool')\n",
    "    \n",
    "elif loc == 'Store':\n",
    "    print('Welcome to the store')\n",
    "    \n",
    "else:\n",
    "    print(\"I do not know much.\")"
   ]
  },
  {
   "cell_type": "code",
   "execution_count": 10,
   "metadata": {},
   "outputs": [
    {
     "name": "stdout",
     "output_type": "stream",
     "text": [
      "Hello Frankie!\n"
     ]
    }
   ],
   "source": [
    "name = 'Frankie'\n",
    "\n",
    "if name == 'Frankie':\n",
    "    print('Hello Frankie!')\n",
    "    \n",
    "elif name == 'Sammy':\n",
    "    print('Hello Sammy')\n",
    "    \n",
    "else:\n",
    "    print('What is your name?')"
   ]
  },
  {
   "cell_type": "code",
   "execution_count": null,
   "metadata": {},
   "outputs": [],
   "source": []
  }
 ],
 "metadata": {
  "kernelspec": {
   "display_name": "Python 3",
   "language": "python",
   "name": "python3"
  },
  "language_info": {
   "codemirror_mode": {
    "name": "ipython",
    "version": 3
   },
   "file_extension": ".py",
   "mimetype": "text/x-python",
   "name": "python",
   "nbconvert_exporter": "python",
   "pygments_lexer": "ipython3",
   "version": "3.6.4"
  }
 },
 "nbformat": 4,
 "nbformat_minor": 2
}
